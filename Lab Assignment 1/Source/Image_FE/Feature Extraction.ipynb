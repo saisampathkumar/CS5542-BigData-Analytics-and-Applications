{
 "cells": [
  {
   "cell_type": "code",
   "execution_count": null,
   "metadata": {},
   "outputs": [],
   "source": [
    "import numpy as np\n",
    "import cv2\n",
    "import matplotlib.pyplot as plt\n",
    "import os\n",
    "\n",
    "%matplotlib inline\n",
    "!python -V\n",
    "cv2.__version__\n",
    "dataset_path = 'C:\\\\Users\\\\saisa\\\\Desktop\\\\lab Assignment\\\\Flickr8k\\\\Data\\\\lamp'\n",
    "img_building = cv2.imread(os.path.join(dataset_path, '1410193619_13fff6c875.jpg'))\n",
    "img_building = cv2.cvtColor(img_building, cv2.COLOR_BGR2RGB)  # Convert from cv's BRG default color order to RGB\n",
    "\n",
    "sift = cv2.xfeatures2d.SIFT_create()\n",
    "kp, des = sift.detectAndCompute(img_building, None)\n",
    "img_kp = cv2.drawKeypoints(img_building, kp, img_building)\n",
    "\n",
    "plt.figure(figsize=(15, 15))\n",
    "plt.imshow(img_kp); plt.show()"
   ]
  },
  {
   "cell_type": "code",
   "execution_count": null,
   "metadata": {},
   "outputs": [],
   "source": []
  }
 ],
 "metadata": {
  "kernelspec": {
   "display_name": "Python 3",
   "language": "python",
   "name": "python3"
  },
  "language_info": {
   "codemirror_mode": {
    "name": "ipython",
    "version": 3
   },
   "file_extension": ".py",
   "mimetype": "text/x-python",
   "name": "python",
   "nbconvert_exporter": "python",
   "pygments_lexer": "ipython3",
   "version": "3.6.4"
  }
 },
 "nbformat": 4,
 "nbformat_minor": 2
}
